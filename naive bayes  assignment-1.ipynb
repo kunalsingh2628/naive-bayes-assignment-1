{
 "cells": [
  {
   "cell_type": "code",
   "execution_count": null,
   "id": "3dcea500-a3b6-4de7-8484-cb1601c1c28e",
   "metadata": {},
   "outputs": [],
   "source": [
    "###Q-1"
   ]
  },
  {
   "cell_type": "code",
   "execution_count": null,
   "id": "fff09dee-3855-4f37-bdc8-61ee3daa3982",
   "metadata": {},
   "outputs": [],
   "source": [
    "Bayes' theorem, named after the Reverend Thomas Bayes, is a mathematical formula that describes the probability of an event based on prior knowledge of conditions that might be related to the event. It is a fundamental concept in probability theory and statistics and is widely used in various fields, including machine learning, finance, and medical diagnosis."
   ]
  },
  {
   "cell_type": "code",
   "execution_count": null,
   "id": "be4ccd1f-c7bc-470c-96f9-a488b16e6c62",
   "metadata": {},
   "outputs": [],
   "source": [
    "##Q-2"
   ]
  },
  {
   "cell_type": "code",
   "execution_count": null,
   "id": "63740ad5-f01f-45c3-9d1b-275d4d7d3773",
   "metadata": {},
   "outputs": [],
   "source": [
    "The formula for Bayes' theorem is expressed as:\n",
    "\n",
    "�\n",
    "(\n",
    "�\n",
    "∣\n",
    "�\n",
    ")\n",
    "=\n",
    "�\n",
    "(\n",
    "�\n",
    "∣\n",
    "�\n",
    ")\n",
    "⋅\n",
    "�\n",
    "(\n",
    "�\n",
    ")\n",
    "�\n",
    "(\n",
    "�\n",
    ")\n",
    "P(A∣B)= \n",
    "P(B)\n",
    "P(B∣A)⋅P(A)\n",
    "​\n",
    " \n",
    "\n",
    "where:\n",
    "\n",
    "�\n",
    "(\n",
    "�\n",
    "∣\n",
    "�\n",
    ")\n",
    "P(A∣B) is the probability of event A given that event B has occurred.\n",
    "�\n",
    "(\n",
    "�\n",
    "∣\n",
    "�\n",
    ")\n",
    "P(B∣A) is the probability of event B given that event A has occurred.\n",
    "�\n",
    "(\n",
    "�\n",
    ")\n",
    "P(A) is the prior probability of event A.\n",
    "�\n",
    "(\n",
    "�\n",
    ")\n",
    "P(B) is the prior probability of event B."
   ]
  },
  {
   "cell_type": "code",
   "execution_count": null,
   "id": "d6a654d0-7815-4e53-ad46-cb53daccf803",
   "metadata": {},
   "outputs": [],
   "source": [
    "##Q-3"
   ]
  },
  {
   "cell_type": "code",
   "execution_count": null,
   "id": "8c94abd3-410d-43c4-aeb8-96acd10f3732",
   "metadata": {},
   "outputs": [],
   "source": [
    "Bayes' theorem is used in various practical applications, including:\n",
    "\n",
    "Spam Filtering: Bayesian methods are employed to classify emails as spam or not spam based on the occurrence of certain words or features.\n",
    "Medical Diagnosis: It's used to update the probability of a disease given certain symptoms or test results.\n",
    "Machine Learning: Bayesian inference is used for probabilistic models, such as Naive Bayes classifiers."
   ]
  },
  {
   "cell_type": "code",
   "execution_count": null,
   "id": "5832434e-2a4b-4d9f-a187-d20ff65a1693",
   "metadata": {},
   "outputs": [],
   "source": [
    "##Q-4"
   ]
  },
  {
   "cell_type": "code",
   "execution_count": null,
   "id": "cec0e61e-dd60-49da-84d1-daf2733f1a6d",
   "metadata": {},
   "outputs": [],
   "source": [
    "Bayes' theorem is a way of expressing conditional probability. In the formula \n",
    "�\n",
    "(\n",
    "�\n",
    "∣\n",
    "�\n",
    ")\n",
    "=\n",
    "�\n",
    "(\n",
    "�\n",
    "∣\n",
    "�\n",
    ")\n",
    "⋅\n",
    "�\n",
    "(\n",
    "�\n",
    ")\n",
    "�\n",
    "(\n",
    "�\n",
    ")\n",
    "P(A∣B)= \n",
    "P(B)\n",
    "P(B∣A)⋅P(A)\n",
    "​\n",
    " , \n",
    "�\n",
    "(\n",
    "�\n",
    "∣\n",
    "�\n",
    ")\n",
    "P(A∣B) represents the probability of event A given that event B has occurred, which is a conditional probability. Bayes' theorem provides a method for updating or revising this conditional probability based on new information."
   ]
  },
  {
   "cell_type": "code",
   "execution_count": null,
   "id": "b95a97d5-128e-464f-8294-ea26604d1e4f",
   "metadata": {},
   "outputs": [],
   "source": [
    "##Q-5"
   ]
  },
  {
   "cell_type": "code",
   "execution_count": null,
   "id": "aa6921aa-314b-4a66-bfa6-29f7a233d82c",
   "metadata": {},
   "outputs": [],
   "source": [
    "There are three main types of Naive Bayes classifiers: Gaussian, Multinomial, and Bernoulli. The choice depends on the nature of the data:\n",
    "\n",
    "Gaussian Naive Bayes: It is suitable for continuous data with a normal distribution, such as real-valued features.\n",
    "Multinomial Naive Bayes: It is commonly used for discrete data, such as text data represented by word counts in documents.\n",
    "Bernoulli Naive Bayes: It is used when the features are binary (i.e., they take values of 0 or 1), such as presence or absence of certain words in a document.\n",
    "The choice of classifier depends on the assumptions about the distribution of the data and the characteristics of the features in your specific problem."
   ]
  },
  {
   "cell_type": "code",
   "execution_count": null,
   "id": "29caf5c7-7414-409b-8d46-fd4b9db2cfe1",
   "metadata": {},
   "outputs": [],
   "source": [
    "##Q-6"
   ]
  },
  {
   "cell_type": "code",
   "execution_count": null,
   "id": "d076ec8c-2a2a-4f21-bbc7-98e714d8aa3a",
   "metadata": {},
   "outputs": [],
   "source": []
  },
  {
   "cell_type": "code",
   "execution_count": null,
   "id": "d4e39ca5-09b0-461d-817a-fdb5cfb340ff",
   "metadata": {},
   "outputs": [],
   "source": []
  },
  {
   "cell_type": "code",
   "execution_count": null,
   "id": "7ace8118-c673-4b69-8a4d-70b25d7f5f06",
   "metadata": {},
   "outputs": [],
   "source": []
  },
  {
   "cell_type": "code",
   "execution_count": null,
   "id": "3f181f3c-6c3c-487c-9252-a9313ddc2c67",
   "metadata": {},
   "outputs": [],
   "source": []
  },
  {
   "cell_type": "code",
   "execution_count": null,
   "id": "62ecd37f-0d0f-491a-a54e-df7296e2649b",
   "metadata": {},
   "outputs": [],
   "source": []
  },
  {
   "cell_type": "code",
   "execution_count": null,
   "id": "11cf148d-d8d3-4475-8332-ce7a79230221",
   "metadata": {},
   "outputs": [],
   "source": []
  },
  {
   "cell_type": "code",
   "execution_count": null,
   "id": "fd021213-91a1-445a-bbb6-d288d58f7c05",
   "metadata": {},
   "outputs": [],
   "source": []
  },
  {
   "cell_type": "code",
   "execution_count": null,
   "id": "a7401ad6-de0f-407c-8cd6-d781a7684556",
   "metadata": {},
   "outputs": [],
   "source": []
  },
  {
   "cell_type": "code",
   "execution_count": null,
   "id": "9a78fb9f-bdfc-4256-896e-23541e510475",
   "metadata": {},
   "outputs": [],
   "source": []
  },
  {
   "cell_type": "code",
   "execution_count": null,
   "id": "ee5af4cc-4578-41ca-b529-1b462d6a3968",
   "metadata": {},
   "outputs": [],
   "source": []
  },
  {
   "cell_type": "code",
   "execution_count": null,
   "id": "faafb8f4-76e9-49a7-82af-b81eae470e91",
   "metadata": {},
   "outputs": [],
   "source": []
  },
  {
   "cell_type": "code",
   "execution_count": null,
   "id": "acd2fa96-bd85-441d-82a4-59c52e654e1a",
   "metadata": {},
   "outputs": [],
   "source": []
  },
  {
   "cell_type": "code",
   "execution_count": null,
   "id": "a8ad8906-ccc3-42dd-b773-c3893d974e3d",
   "metadata": {},
   "outputs": [],
   "source": []
  }
 ],
 "metadata": {
  "kernelspec": {
   "display_name": "Python 3 (ipykernel)",
   "language": "python",
   "name": "python3"
  },
  "language_info": {
   "codemirror_mode": {
    "name": "ipython",
    "version": 3
   },
   "file_extension": ".py",
   "mimetype": "text/x-python",
   "name": "python",
   "nbconvert_exporter": "python",
   "pygments_lexer": "ipython3",
   "version": "3.10.8"
  }
 },
 "nbformat": 4,
 "nbformat_minor": 5
}
